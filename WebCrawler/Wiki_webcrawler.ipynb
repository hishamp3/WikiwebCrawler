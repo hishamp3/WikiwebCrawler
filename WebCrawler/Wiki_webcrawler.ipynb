{
 "cells": [
  {
   "cell_type": "markdown",
   "id": "1069d317",
   "metadata": {},
   "source": [
    "### Wiki Web crawler"
   ]
  },
  {
   "cell_type": "markdown",
   "id": "9295efb3",
   "metadata": {},
   "source": [
    "* Web crawler that is designed to crawl through wikipedia links\n",
    "* Recursive calls are made to the internal links of the current page\n",
    "* keeps track of the previous visited pages\n",
    "* csv file with fragments,internal & external links along with last modified timestamp of the crawled page."
   ]
  },
  {
   "cell_type": "code",
   "execution_count": 1,
   "id": "05dd844f",
   "metadata": {},
   "outputs": [],
   "source": [
    "import requests\n",
    "import json\n",
    "import pandas as pd\n",
    "from bs4 import BeautifulSoup\n",
    "import random"
   ]
  },
  {
   "cell_type": "code",
   "execution_count": 2,
   "id": "94e55ff2",
   "metadata": {},
   "outputs": [],
   "source": [
    "# initial crawl link\n",
    "URL = \"https://en.wikipedia.org/wiki/The_Doors\"\n",
    "df = pd.DataFrame(columns=['Pagecount','INTcount','EXTcount','URLfragments','timestamp'])\n",
    "\n",
    "visitedLinks = []\n",
    "#Crawl limit\n",
    "PageLimit = 10\n",
    "pageCounter = 0\n"
   ]
  },
  {
   "cell_type": "markdown",
   "id": "b20e32c9",
   "metadata": {},
   "source": [
    "#### Last modified date\n",
    "* code specific for wiki json format\n",
    "* changes to be made for other domain"
   ]
  },
  {
   "cell_type": "code",
   "execution_count": 3,
   "id": "eafec35d",
   "metadata": {},
   "outputs": [],
   "source": [
    "# get last modified timestamp\n",
    "def getTimestamp(content):\n",
    "    scriptTags = content.find_all('script')\n",
    "    for i in range(0,len(scriptTags)):\n",
    "        if \"json\" in str(scriptTags[i]):\n",
    "            JsonObject = json.loads(scriptTags[i].get_text())\n",
    "            timestamp = JsonObject['dateModified']\n",
    "            return timestamp"
   ]
  },
  {
   "cell_type": "code",
   "execution_count": 4,
   "id": "c7896186",
   "metadata": {},
   "outputs": [],
   "source": [
    "# get all links of the current page\n",
    "def getAllhyperlinks(content):\n",
    "    validLinks=[]\n",
    "    links = content.find_all('a')\n",
    "    for i in range(0,len(links)):        \n",
    "        if \"href\" in str(links[i]):\n",
    "            validLinks.append(str(links[i]))\n",
    "    return validLinks"
   ]
  },
  {
   "cell_type": "code",
   "execution_count": 5,
   "id": "bd85cd5b",
   "metadata": {},
   "outputs": [],
   "source": [
    "# convert internal links to wikipedia links\n",
    "def getWikiLinks(inLinks):    \n",
    "    https=[]\n",
    "    wikilinks=[]\n",
    "\n",
    "    for i in range(0,len(inLinks)):\n",
    "        content = BeautifulSoup(inLinks[i],'html.parser')\n",
    "        Nextlink = content.get_text()\n",
    "        if \"https\" in str(Nextlink):\n",
    "            https.append(Nextlink)\n",
    "        else:\n",
    "            wikilinks.append(\"https://en.wikipedia.org/wiki/\"+str(Nextlink))\n",
    "    return wikilinks"
   ]
  },
  {
   "cell_type": "code",
   "execution_count": 6,
   "id": "bbdc0c61",
   "metadata": {},
   "outputs": [],
   "source": [
    "def webCrawl(url):\n",
    "    AllLinks=[]\n",
    "    inLinks=[]\n",
    "    extern,intern,fragments=0,0,0\n",
    "\n",
    "    global pageCounter\n",
    "    print(url)\n",
    "\n",
    "    # html Parser\n",
    "    MainPage = requests.get(url)\n",
    "    HtmlContent = BeautifulSoup(MainPage.content,'html.parser')\n",
    "    timestamp=getTimestamp(HtmlContent)\n",
    "    AllLinks = getAllhyperlinks(HtmlContent)\n",
    "\n",
    "    # differentiate external,internal and fragments of current page\n",
    "    global visitedLinks\n",
    "    for index in range(0,len(AllLinks)):\n",
    "        text = AllLinks[index]\n",
    "        if \"/wiki/\" in text:\n",
    "            intern+=1\n",
    "            inLinks.append(text)\n",
    "        elif \"#\" in text:\n",
    "            fragments+=1\n",
    "        else:\n",
    "            extern+=1\n",
    "\n",
    "    # dataframe for csv file\n",
    "    df.loc[pageCounter] = [pageCounter,intern,extern,fragments,timestamp]\n",
    "    pageCounter+=1\n",
    "\n",
    "    #fetch all wiki links of current crawl\n",
    "    Wikilinks = getWikiLinks(inLinks)\n",
    "\n",
    "    # check condition for previous visited links\n",
    "    x= random.randint(0, len(Wikilinks)-1)\n",
    "    while(Wikilinks[x] in visitedLinks):\n",
    "        x= random.randint(0, len(Wikilinks)-1)   \n",
    "    visitedLinks.append(Wikilinks[x])    \n",
    "\n",
    "    # check maximum limit          \n",
    "    if(pageCounter>=PageLimit):\n",
    "        return ;\n",
    "    else:\n",
    "        return webCrawl(visitedLinks[-1])"
   ]
  },
  {
   "cell_type": "code",
   "execution_count": 7,
   "id": "83f1dcc3",
   "metadata": {},
   "outputs": [],
   "source": [
    "def main():\n",
    "    try:\n",
    "        webCrawl(URL)\n",
    "\n",
    "    except:\n",
    "        print(\"An Exception Occurred \\n\")\n",
    "\n",
    "    finally:\n",
    "        print(df)\n",
    "        df.to_csv(\"./WebCrawler.csv\")"
   ]
  },
  {
   "cell_type": "code",
   "execution_count": 8,
   "id": "166d56c8",
   "metadata": {},
   "outputs": [
    {
     "name": "stdout",
     "output_type": "stream",
     "text": [
      "https://en.wikipedia.org/wiki/The_Doors\n",
      "https://en.wikipedia.org/wiki/keyboard bass\n",
      "https://en.wikipedia.org/wiki/MIDI\n",
      "https://en.wikipedia.org/wiki/sequencer\n",
      "https://en.wikipedia.org/wiki/What links here\n",
      "https://en.wikipedia.org/wiki/Cookie statement\n",
      "https://en.wikipedia.org/wiki/Commons\n",
      "https://en.wikipedia.org/wiki/S2CID\n",
      "https://en.wikipedia.org/wiki/Essay\n",
      "https://en.wikipedia.org/wiki/Македонски\n",
      "  Pagecount INTcount EXTcount URLfragments             timestamp\n",
      "0         0     1026      168          478  2022-04-10T22:26:27Z\n",
      "1         1      173       37           15  2022-02-04T14:49:53Z\n",
      "2         2      911      314          559  2022-04-09T06:06:38Z\n",
      "3         3       61       19            3  2019-07-13T07:33:35Z\n",
      "4       4.0     41.0     14.0          3.0                   NaN\n",
      "5       5.0     41.0     14.0          3.0                   NaN\n",
      "6         6      639      127          161  2022-04-02T20:10:22Z\n",
      "7         7      213       54           62  2022-03-04T18:03:40Z\n",
      "8         8      478       68          120  2022-03-13T20:05:01Z\n",
      "9         9     1101      121          482  2022-03-20T17:21:31Z\n"
     ]
    }
   ],
   "source": [
    "if __name__ == \"__main__\":\n",
    "    main()"
   ]
  }
 ],
 "metadata": {
  "kernelspec": {
   "display_name": "Python 3 (ipykernel)",
   "language": "python",
   "name": "python3"
  },
  "language_info": {
   "codemirror_mode": {
    "name": "ipython",
    "version": 3
   },
   "file_extension": ".py",
   "mimetype": "text/x-python",
   "name": "python",
   "nbconvert_exporter": "python",
   "pygments_lexer": "ipython3",
   "version": "3.9.7"
  }
 },
 "nbformat": 4,
 "nbformat_minor": 5
}
